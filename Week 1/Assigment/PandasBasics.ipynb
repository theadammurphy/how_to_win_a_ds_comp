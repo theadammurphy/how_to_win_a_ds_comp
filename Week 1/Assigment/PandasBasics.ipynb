{
 "cells": [
  {
   "cell_type": "markdown",
   "metadata": {},
   "source": [
    "Version 1.0.3"
   ]
  },
  {
   "cell_type": "markdown",
   "metadata": {},
   "source": [
    "# Pandas basics "
   ]
  },
  {
   "cell_type": "markdown",
   "metadata": {},
   "source": [
    "Hi! In this programming assignment you need to refresh your `pandas` knowledge. You will need to do several [`groupby`](https://pandas.pydata.org/pandas-docs/stable/generated/pandas.DataFrame.groupby.html)s and [`join`]()`s to solve the task. "
   ]
  },
  {
   "cell_type": "code",
   "execution_count": 1,
   "metadata": {
    "ExecuteTime": {
     "end_time": "2021-02-16T11:14:27.511106Z",
     "start_time": "2021-02-16T11:14:24.120226Z"
    }
   },
   "outputs": [],
   "source": [
    "import pandas as pd\n",
    "import numpy as np\n",
    "import os\n",
    "import matplotlib.pyplot as plt\n",
    "%matplotlib inline \n",
    "\n",
    "from grader import Grader"
   ]
  },
  {
   "cell_type": "code",
   "execution_count": 2,
   "metadata": {
    "ExecuteTime": {
     "end_time": "2021-02-16T11:14:28.882800Z",
     "start_time": "2021-02-16T11:14:27.522756Z"
    }
   },
   "outputs": [],
   "source": [
    "DATA_FOLDER = '../readonly/final_project_data/'\n",
    "\n",
    "transactions    = pd.read_csv(os.path.join(DATA_FOLDER, 'sales_train.csv.gz'))\n",
    "items           = pd.read_csv(os.path.join(DATA_FOLDER, 'items.csv'))\n",
    "item_categories = pd.read_csv(os.path.join(DATA_FOLDER, 'item_categories.csv'))\n",
    "shops           = pd.read_csv(os.path.join(DATA_FOLDER, 'shops.csv'))"
   ]
  },
  {
   "cell_type": "markdown",
   "metadata": {},
   "source": [
    "The dataset we are going to use is taken from the competition, that serves as the final project for this course. You can find complete data description at the [competition web page](https://www.kaggle.com/c/competitive-data-science-final-project/data). To join the competition use [this link](https://www.kaggle.com/t/1ea93815dca248e99221df42ebde3540)."
   ]
  },
  {
   "cell_type": "markdown",
   "metadata": {},
   "source": [
    "## Grading"
   ]
  },
  {
   "cell_type": "markdown",
   "metadata": {},
   "source": [
    "We will create a grader instace below and use it to collect your answers. When function `submit_tag` is called, grader will store your answer *locally*. The answers will *not* be submited to the platform immediately so you can call `submit_tag` function as many times as you need. \n",
    "\n",
    "When you are ready to push your answers to the platform you should fill your credentials and run `submit` function in the <a href=\"#Authorization-&-Submission\">last paragraph</a>  of the assignment."
   ]
  },
  {
   "cell_type": "code",
   "execution_count": 3,
   "metadata": {
    "ExecuteTime": {
     "end_time": "2021-02-16T11:14:38.288350Z",
     "start_time": "2021-02-16T11:14:38.285808Z"
    }
   },
   "outputs": [],
   "source": [
    "grader = Grader()"
   ]
  },
  {
   "cell_type": "markdown",
   "metadata": {},
   "source": [
    "# Task"
   ]
  },
  {
   "cell_type": "markdown",
   "metadata": {},
   "source": [
    "Let's start with a simple task. \n",
    "\n",
    "<ol start=\"0\">\n",
    "  <li><b>Print the shape of the loaded dataframes and use [`df.head`](https://pandas.pydata.org/pandas-docs/stable/generated/pandas.DataFrame.head.html) function to print several rows. Examine the features you are given.</b></li>\n",
    "</ol>"
   ]
  },
  {
   "cell_type": "code",
   "execution_count": 4,
   "metadata": {
    "ExecuteTime": {
     "end_time": "2021-02-16T11:15:20.571107Z",
     "start_time": "2021-02-16T11:15:20.566917Z"
    }
   },
   "outputs": [
    {
     "name": "stdout",
     "output_type": "stream",
     "text": [
      "(2935849, 6)\n",
      "(22170, 3)\n",
      "(84, 2)\n",
      "(60, 2)\n"
     ]
    }
   ],
   "source": [
    "# YOUR CODE GOES HERE\n",
    "dfs = [transactions, items, item_categories, shops]\n",
    "for df in dfs:\n",
    "    print(df.shape)"
   ]
  },
  {
   "cell_type": "markdown",
   "metadata": {},
   "source": [
    "Now use your `pandas` skills to get answers for the following questions. \n",
    "The first question is:\n",
    "\n",
    "1. ** What was the maximum total revenue among all the shops in September, 2014?** \n",
    "\n",
    "\n",
    "* Hereinafter *revenue* refers to total sales minus value of goods returned.\n",
    "\n",
    "*Hints:*\n",
    "\n",
    "* Sometimes items are returned, find such examples in the dataset. \n",
    "* It is handy to split `date` field into [`day`, `month`, `year`] components and use `df.year == 14` and `df.month == 9` in order to select target subset of dates.\n",
    "* You may work with `date` feature as with strings, or you may first convert it to `pd.datetime` type with `pd.to_datetime` function, but do not forget to set correct `format` argument."
   ]
  },
  {
   "cell_type": "code",
   "execution_count": 6,
   "metadata": {
    "ExecuteTime": {
     "end_time": "2021-02-16T11:18:19.743755Z",
     "start_time": "2021-02-16T11:18:19.734912Z"
    },
    "scrolled": true
   },
   "outputs": [
    {
     "name": "stdout",
     "output_type": "stream",
     "text": [
      "         date  date_block_num  shop_id  item_id  item_price  item_cnt_day\n",
      "0  02.01.2013               0       59    22154      999.00           1.0\n",
      "1  03.01.2013               0       25     2552      899.00           1.0\n",
      "2  05.01.2013               0       25     2552      899.00          -1.0\n",
      "3  06.01.2013               0       25     2554     1709.05           1.0\n",
      "4  15.01.2013               0       25     2555     1099.00           1.0\n",
      "                                           item_name  item_id  \\\n",
      "0          ! ВО ВЛАСТИ НАВАЖДЕНИЯ (ПЛАСТ.)         D        0   \n",
      "1  !ABBYY FineReader 12 Professional Edition Full...        1   \n",
      "2      ***В ЛУЧАХ СЛАВЫ   (UNV)                    D        2   \n",
      "3    ***ГОЛУБАЯ ВОЛНА  (Univ)                      D        3   \n",
      "4        ***КОРОБКА (СТЕКЛО)                       D        4   \n",
      "\n",
      "   item_category_id  \n",
      "0                40  \n",
      "1                76  \n",
      "2                40  \n",
      "3                40  \n",
      "4                40  \n",
      "        item_category_name  item_category_id\n",
      "0  PC - Гарнитуры/Наушники                 0\n",
      "1         Аксессуары - PS2                 1\n",
      "2         Аксессуары - PS3                 2\n",
      "3         Аксессуары - PS4                 3\n",
      "4         Аксессуары - PSP                 4\n",
      "                        shop_name  shop_id\n",
      "0   !Якутск Орджоникидзе, 56 фран        0\n",
      "1   !Якутск ТЦ \"Центральный\" фран        1\n",
      "2                Адыгея ТЦ \"Мега\"        2\n",
      "3  Балашиха ТРК \"Октябрь-Киномир\"        3\n",
      "4        Волжский ТЦ \"Волга Молл\"        4\n"
     ]
    }
   ],
   "source": [
    "for df in dfs:\n",
    "    print(df.head())"
   ]
  },
  {
   "cell_type": "code",
   "execution_count": 23,
   "metadata": {
    "ExecuteTime": {
     "end_time": "2021-02-16T11:24:59.143375Z",
     "start_time": "2021-02-16T11:24:59.132177Z"
    }
   },
   "outputs": [
    {
     "data": {
      "text/html": [
       "<div>\n",
       "<style scoped>\n",
       "    .dataframe tbody tr th:only-of-type {\n",
       "        vertical-align: middle;\n",
       "    }\n",
       "\n",
       "    .dataframe tbody tr th {\n",
       "        vertical-align: top;\n",
       "    }\n",
       "\n",
       "    .dataframe thead th {\n",
       "        text-align: right;\n",
       "    }\n",
       "</style>\n",
       "<table border=\"1\" class=\"dataframe\">\n",
       "  <thead>\n",
       "    <tr style=\"text-align: right;\">\n",
       "      <th></th>\n",
       "      <th>date</th>\n",
       "      <th>date_block_num</th>\n",
       "      <th>shop_id</th>\n",
       "      <th>item_id</th>\n",
       "      <th>item_price</th>\n",
       "      <th>item_cnt_day</th>\n",
       "      <th>day</th>\n",
       "      <th>month</th>\n",
       "      <th>year</th>\n",
       "    </tr>\n",
       "  </thead>\n",
       "  <tbody>\n",
       "    <tr>\n",
       "      <th>0</th>\n",
       "      <td>02.01.2013</td>\n",
       "      <td>0</td>\n",
       "      <td>59</td>\n",
       "      <td>22154</td>\n",
       "      <td>999.00</td>\n",
       "      <td>1.0</td>\n",
       "      <td>02</td>\n",
       "      <td>01</td>\n",
       "      <td>2013</td>\n",
       "    </tr>\n",
       "    <tr>\n",
       "      <th>1</th>\n",
       "      <td>03.01.2013</td>\n",
       "      <td>0</td>\n",
       "      <td>25</td>\n",
       "      <td>2552</td>\n",
       "      <td>899.00</td>\n",
       "      <td>1.0</td>\n",
       "      <td>03</td>\n",
       "      <td>01</td>\n",
       "      <td>2013</td>\n",
       "    </tr>\n",
       "    <tr>\n",
       "      <th>2</th>\n",
       "      <td>05.01.2013</td>\n",
       "      <td>0</td>\n",
       "      <td>25</td>\n",
       "      <td>2552</td>\n",
       "      <td>899.00</td>\n",
       "      <td>-1.0</td>\n",
       "      <td>05</td>\n",
       "      <td>01</td>\n",
       "      <td>2013</td>\n",
       "    </tr>\n",
       "    <tr>\n",
       "      <th>3</th>\n",
       "      <td>06.01.2013</td>\n",
       "      <td>0</td>\n",
       "      <td>25</td>\n",
       "      <td>2554</td>\n",
       "      <td>1709.05</td>\n",
       "      <td>1.0</td>\n",
       "      <td>06</td>\n",
       "      <td>01</td>\n",
       "      <td>2013</td>\n",
       "    </tr>\n",
       "    <tr>\n",
       "      <th>4</th>\n",
       "      <td>15.01.2013</td>\n",
       "      <td>0</td>\n",
       "      <td>25</td>\n",
       "      <td>2555</td>\n",
       "      <td>1099.00</td>\n",
       "      <td>1.0</td>\n",
       "      <td>15</td>\n",
       "      <td>01</td>\n",
       "      <td>2013</td>\n",
       "    </tr>\n",
       "  </tbody>\n",
       "</table>\n",
       "</div>"
      ],
      "text/plain": [
       "         date  date_block_num  shop_id  item_id  item_price  item_cnt_day day  \\\n",
       "0  02.01.2013               0       59    22154      999.00           1.0  02   \n",
       "1  03.01.2013               0       25     2552      899.00           1.0  03   \n",
       "2  05.01.2013               0       25     2552      899.00          -1.0  05   \n",
       "3  06.01.2013               0       25     2554     1709.05           1.0  06   \n",
       "4  15.01.2013               0       25     2555     1099.00           1.0  15   \n",
       "\n",
       "  month  year  \n",
       "0    01  2013  \n",
       "1    01  2013  \n",
       "2    01  2013  \n",
       "3    01  2013  \n",
       "4    01  2013  "
      ]
     },
     "execution_count": 23,
     "metadata": {},
     "output_type": "execute_result"
    }
   ],
   "source": [
    "transactions.head()"
   ]
  },
  {
   "cell_type": "code",
   "execution_count": 24,
   "metadata": {
    "ExecuteTime": {
     "end_time": "2021-02-16T11:25:13.582843Z",
     "start_time": "2021-02-16T11:25:10.707033Z"
    }
   },
   "outputs": [],
   "source": [
    "transactions['day'] = transactions.date.str[:2]\n",
    "transactions['month'] = transactions.date.str[3:5]\n",
    "transactions['year'] = transactions.date.str[-4:]\n",
    "transactions['revenue'] = transactions.item_price * transactions.item_cnt_day"
   ]
  },
  {
   "cell_type": "code",
   "execution_count": 30,
   "metadata": {
    "ExecuteTime": {
     "end_time": "2021-02-16T11:26:09.078142Z",
     "start_time": "2021-02-16T11:26:08.774543Z"
    }
   },
   "outputs": [],
   "source": [
    "transactions_sep2014 = transactions[(transactions.month == '09') & (transactions.year == '2014')]"
   ]
  },
  {
   "cell_type": "code",
   "execution_count": 18,
   "metadata": {
    "ExecuteTime": {
     "end_time": "2021-02-16T11:22:55.507850Z",
     "start_time": "2021-02-16T11:22:55.502544Z"
    }
   },
   "outputs": [
    {
     "data": {
      "text/plain": [
       "50"
      ]
     },
     "execution_count": 18,
     "metadata": {},
     "output_type": "execute_result"
    }
   ],
   "source": [
    "# 50 unique shops\n",
    "transactions_sep2014.shop_id.nunique()"
   ]
  },
  {
   "cell_type": "code",
   "execution_count": 31,
   "metadata": {
    "ExecuteTime": {
     "end_time": "2021-02-16T11:26:11.457838Z",
     "start_time": "2021-02-16T11:26:11.444827Z"
    }
   },
   "outputs": [
    {
     "data": {
      "text/html": [
       "<div>\n",
       "<style scoped>\n",
       "    .dataframe tbody tr th:only-of-type {\n",
       "        vertical-align: middle;\n",
       "    }\n",
       "\n",
       "    .dataframe tbody tr th {\n",
       "        vertical-align: top;\n",
       "    }\n",
       "\n",
       "    .dataframe thead th {\n",
       "        text-align: right;\n",
       "    }\n",
       "</style>\n",
       "<table border=\"1\" class=\"dataframe\">\n",
       "  <thead>\n",
       "    <tr style=\"text-align: right;\">\n",
       "      <th></th>\n",
       "      <th>date</th>\n",
       "      <th>date_block_num</th>\n",
       "      <th>shop_id</th>\n",
       "      <th>item_id</th>\n",
       "      <th>item_price</th>\n",
       "      <th>item_cnt_day</th>\n",
       "      <th>day</th>\n",
       "      <th>month</th>\n",
       "      <th>year</th>\n",
       "      <th>revenue</th>\n",
       "    </tr>\n",
       "  </thead>\n",
       "  <tbody>\n",
       "    <tr>\n",
       "      <th>1953691</th>\n",
       "      <td>24.09.2014</td>\n",
       "      <td>20</td>\n",
       "      <td>5</td>\n",
       "      <td>1039</td>\n",
       "      <td>899.0</td>\n",
       "      <td>1.0</td>\n",
       "      <td>24</td>\n",
       "      <td>09</td>\n",
       "      <td>2014</td>\n",
       "      <td>899.0</td>\n",
       "    </tr>\n",
       "    <tr>\n",
       "      <th>1953692</th>\n",
       "      <td>27.09.2014</td>\n",
       "      <td>20</td>\n",
       "      <td>5</td>\n",
       "      <td>1015</td>\n",
       "      <td>449.0</td>\n",
       "      <td>1.0</td>\n",
       "      <td>27</td>\n",
       "      <td>09</td>\n",
       "      <td>2014</td>\n",
       "      <td>449.0</td>\n",
       "    </tr>\n",
       "    <tr>\n",
       "      <th>1953693</th>\n",
       "      <td>07.09.2014</td>\n",
       "      <td>20</td>\n",
       "      <td>5</td>\n",
       "      <td>1329</td>\n",
       "      <td>399.0</td>\n",
       "      <td>1.0</td>\n",
       "      <td>07</td>\n",
       "      <td>09</td>\n",
       "      <td>2014</td>\n",
       "      <td>399.0</td>\n",
       "    </tr>\n",
       "    <tr>\n",
       "      <th>1953694</th>\n",
       "      <td>27.09.2014</td>\n",
       "      <td>20</td>\n",
       "      <td>5</td>\n",
       "      <td>984</td>\n",
       "      <td>399.0</td>\n",
       "      <td>1.0</td>\n",
       "      <td>27</td>\n",
       "      <td>09</td>\n",
       "      <td>2014</td>\n",
       "      <td>399.0</td>\n",
       "    </tr>\n",
       "    <tr>\n",
       "      <th>1953695</th>\n",
       "      <td>08.09.2014</td>\n",
       "      <td>20</td>\n",
       "      <td>5</td>\n",
       "      <td>984</td>\n",
       "      <td>399.0</td>\n",
       "      <td>1.0</td>\n",
       "      <td>08</td>\n",
       "      <td>09</td>\n",
       "      <td>2014</td>\n",
       "      <td>399.0</td>\n",
       "    </tr>\n",
       "  </tbody>\n",
       "</table>\n",
       "</div>"
      ],
      "text/plain": [
       "               date  date_block_num  shop_id  item_id  item_price  \\\n",
       "1953691  24.09.2014              20        5     1039       899.0   \n",
       "1953692  27.09.2014              20        5     1015       449.0   \n",
       "1953693  07.09.2014              20        5     1329       399.0   \n",
       "1953694  27.09.2014              20        5      984       399.0   \n",
       "1953695  08.09.2014              20        5      984       399.0   \n",
       "\n",
       "         item_cnt_day day month  year  revenue  \n",
       "1953691           1.0  24    09  2014    899.0  \n",
       "1953692           1.0  27    09  2014    449.0  \n",
       "1953693           1.0  07    09  2014    399.0  \n",
       "1953694           1.0  27    09  2014    399.0  \n",
       "1953695           1.0  08    09  2014    399.0  "
      ]
     },
     "execution_count": 31,
     "metadata": {},
     "output_type": "execute_result"
    }
   ],
   "source": [
    "transactions_sep2014.head()"
   ]
  },
  {
   "cell_type": "code",
   "execution_count": 34,
   "metadata": {
    "ExecuteTime": {
     "end_time": "2021-02-16T11:28:26.213577Z",
     "start_time": "2021-02-16T11:28:26.197342Z"
    }
   },
   "outputs": [
    {
     "data": {
      "text/plain": [
       "7982852.199999956"
      ]
     },
     "execution_count": 34,
     "metadata": {},
     "output_type": "execute_result"
    }
   ],
   "source": [
    "transactions_sep2014.groupby('shop_id').sum().revenue.max()"
   ]
  },
  {
   "cell_type": "code",
   "execution_count": 36,
   "metadata": {
    "ExecuteTime": {
     "end_time": "2021-02-16T11:29:21.436109Z",
     "start_time": "2021-02-16T11:29:21.420440Z"
    }
   },
   "outputs": [
    {
     "data": {
      "text/plain": [
       "31"
      ]
     },
     "execution_count": 36,
     "metadata": {},
     "output_type": "execute_result"
    }
   ],
   "source": [
    "transactions_sep2014.groupby('shop_id').sum().revenue.idxmax()"
   ]
  },
  {
   "cell_type": "code",
   "execution_count": 37,
   "metadata": {
    "ExecuteTime": {
     "end_time": "2021-02-16T11:29:27.237048Z",
     "start_time": "2021-02-16T11:29:27.233871Z"
    }
   },
   "outputs": [
    {
     "name": "stdout",
     "output_type": "stream",
     "text": [
      "Current answer for task max_revenue is: 7982852.199999956\n"
     ]
    }
   ],
   "source": [
    "# YOUR CODE GOES HERE\n",
    "\n",
    "max_revenue = 7982852.199999956\n",
    "grader.submit_tag('max_revenue', max_revenue)"
   ]
  },
  {
   "cell_type": "markdown",
   "metadata": {},
   "source": [
    "Great! Let's move on and answer another question:\n",
    "\n",
    "<ol start=\"2\">\n",
    "  <li><b>What item category generated the highest revenue in summer 2014?</b></li>\n",
    "</ol>\n",
    "\n",
    "* Submit `id` of the category found.\n",
    "    \n",
    "* Here we call \"summer\" the period from June to August.\n",
    "\n",
    "*Hints:*\n",
    "\n",
    "* Note, that for an object `x` of type `pd.Series`: `x.argmax()` returns **index** of the maximum element. `pd.Series` can have non-trivial index (not `[1, 2, 3, ... ]`)."
   ]
  },
  {
   "cell_type": "code",
   "execution_count": 43,
   "metadata": {
    "ExecuteTime": {
     "end_time": "2021-02-16T11:37:42.933606Z",
     "start_time": "2021-02-16T11:37:42.363795Z"
    }
   },
   "outputs": [],
   "source": [
    "summer = (transactions.month == '06') | (transactions.month == '07') | (transactions.month == '08')\n",
    "transactions_summer2014 = transactions[summer & (transactions.year == '2014')]"
   ]
  },
  {
   "cell_type": "code",
   "execution_count": 44,
   "metadata": {
    "ExecuteTime": {
     "end_time": "2021-02-16T11:38:12.040878Z",
     "start_time": "2021-02-16T11:38:12.028402Z"
    }
   },
   "outputs": [
    {
     "data": {
      "text/html": [
       "<div>\n",
       "<style scoped>\n",
       "    .dataframe tbody tr th:only-of-type {\n",
       "        vertical-align: middle;\n",
       "    }\n",
       "\n",
       "    .dataframe tbody tr th {\n",
       "        vertical-align: top;\n",
       "    }\n",
       "\n",
       "    .dataframe thead th {\n",
       "        text-align: right;\n",
       "    }\n",
       "</style>\n",
       "<table border=\"1\" class=\"dataframe\">\n",
       "  <thead>\n",
       "    <tr style=\"text-align: right;\">\n",
       "      <th></th>\n",
       "      <th>date</th>\n",
       "      <th>date_block_num</th>\n",
       "      <th>shop_id</th>\n",
       "      <th>item_id</th>\n",
       "      <th>item_price</th>\n",
       "      <th>item_cnt_day</th>\n",
       "      <th>day</th>\n",
       "      <th>month</th>\n",
       "      <th>year</th>\n",
       "      <th>revenue</th>\n",
       "    </tr>\n",
       "  </thead>\n",
       "  <tbody>\n",
       "    <tr>\n",
       "      <th>1705909</th>\n",
       "      <td>15.06.2014</td>\n",
       "      <td>17</td>\n",
       "      <td>26</td>\n",
       "      <td>9532</td>\n",
       "      <td>399.00</td>\n",
       "      <td>1.0</td>\n",
       "      <td>15</td>\n",
       "      <td>06</td>\n",
       "      <td>2014</td>\n",
       "      <td>399.00</td>\n",
       "    </tr>\n",
       "    <tr>\n",
       "      <th>1705910</th>\n",
       "      <td>10.06.2014</td>\n",
       "      <td>17</td>\n",
       "      <td>26</td>\n",
       "      <td>9507</td>\n",
       "      <td>149.00</td>\n",
       "      <td>1.0</td>\n",
       "      <td>10</td>\n",
       "      <td>06</td>\n",
       "      <td>2014</td>\n",
       "      <td>149.00</td>\n",
       "    </tr>\n",
       "    <tr>\n",
       "      <th>1705911</th>\n",
       "      <td>13.06.2014</td>\n",
       "      <td>17</td>\n",
       "      <td>26</td>\n",
       "      <td>9509</td>\n",
       "      <td>246.32</td>\n",
       "      <td>1.0</td>\n",
       "      <td>13</td>\n",
       "      <td>06</td>\n",
       "      <td>2014</td>\n",
       "      <td>246.32</td>\n",
       "    </tr>\n",
       "    <tr>\n",
       "      <th>1705912</th>\n",
       "      <td>03.06.2014</td>\n",
       "      <td>17</td>\n",
       "      <td>26</td>\n",
       "      <td>9532</td>\n",
       "      <td>399.00</td>\n",
       "      <td>1.0</td>\n",
       "      <td>03</td>\n",
       "      <td>06</td>\n",
       "      <td>2014</td>\n",
       "      <td>399.00</td>\n",
       "    </tr>\n",
       "    <tr>\n",
       "      <th>1705913</th>\n",
       "      <td>08.06.2014</td>\n",
       "      <td>17</td>\n",
       "      <td>26</td>\n",
       "      <td>9532</td>\n",
       "      <td>399.00</td>\n",
       "      <td>1.0</td>\n",
       "      <td>08</td>\n",
       "      <td>06</td>\n",
       "      <td>2014</td>\n",
       "      <td>399.00</td>\n",
       "    </tr>\n",
       "  </tbody>\n",
       "</table>\n",
       "</div>"
      ],
      "text/plain": [
       "               date  date_block_num  shop_id  item_id  item_price  \\\n",
       "1705909  15.06.2014              17       26     9532      399.00   \n",
       "1705910  10.06.2014              17       26     9507      149.00   \n",
       "1705911  13.06.2014              17       26     9509      246.32   \n",
       "1705912  03.06.2014              17       26     9532      399.00   \n",
       "1705913  08.06.2014              17       26     9532      399.00   \n",
       "\n",
       "         item_cnt_day day month  year  revenue  \n",
       "1705909           1.0  15    06  2014   399.00  \n",
       "1705910           1.0  10    06  2014   149.00  \n",
       "1705911           1.0  13    06  2014   246.32  \n",
       "1705912           1.0  03    06  2014   399.00  \n",
       "1705913           1.0  08    06  2014   399.00  "
      ]
     },
     "execution_count": 44,
     "metadata": {},
     "output_type": "execute_result"
    }
   ],
   "source": [
    "transactions_summer2014.head()"
   ]
  },
  {
   "cell_type": "code",
   "execution_count": 46,
   "metadata": {
    "ExecuteTime": {
     "end_time": "2021-02-16T11:39:35.031360Z",
     "start_time": "2021-02-16T11:39:35.024050Z"
    }
   },
   "outputs": [
    {
     "data": {
      "text/html": [
       "<div>\n",
       "<style scoped>\n",
       "    .dataframe tbody tr th:only-of-type {\n",
       "        vertical-align: middle;\n",
       "    }\n",
       "\n",
       "    .dataframe tbody tr th {\n",
       "        vertical-align: top;\n",
       "    }\n",
       "\n",
       "    .dataframe thead th {\n",
       "        text-align: right;\n",
       "    }\n",
       "</style>\n",
       "<table border=\"1\" class=\"dataframe\">\n",
       "  <thead>\n",
       "    <tr style=\"text-align: right;\">\n",
       "      <th></th>\n",
       "      <th>item_name</th>\n",
       "      <th>item_id</th>\n",
       "      <th>item_category_id</th>\n",
       "    </tr>\n",
       "  </thead>\n",
       "  <tbody>\n",
       "    <tr>\n",
       "      <th>0</th>\n",
       "      <td>! ВО ВЛАСТИ НАВАЖДЕНИЯ (ПЛАСТ.)         D</td>\n",
       "      <td>0</td>\n",
       "      <td>40</td>\n",
       "    </tr>\n",
       "    <tr>\n",
       "      <th>1</th>\n",
       "      <td>!ABBYY FineReader 12 Professional Edition Full...</td>\n",
       "      <td>1</td>\n",
       "      <td>76</td>\n",
       "    </tr>\n",
       "    <tr>\n",
       "      <th>2</th>\n",
       "      <td>***В ЛУЧАХ СЛАВЫ   (UNV)                    D</td>\n",
       "      <td>2</td>\n",
       "      <td>40</td>\n",
       "    </tr>\n",
       "    <tr>\n",
       "      <th>3</th>\n",
       "      <td>***ГОЛУБАЯ ВОЛНА  (Univ)                      D</td>\n",
       "      <td>3</td>\n",
       "      <td>40</td>\n",
       "    </tr>\n",
       "    <tr>\n",
       "      <th>4</th>\n",
       "      <td>***КОРОБКА (СТЕКЛО)                       D</td>\n",
       "      <td>4</td>\n",
       "      <td>40</td>\n",
       "    </tr>\n",
       "  </tbody>\n",
       "</table>\n",
       "</div>"
      ],
      "text/plain": [
       "                                           item_name  item_id  \\\n",
       "0          ! ВО ВЛАСТИ НАВАЖДЕНИЯ (ПЛАСТ.)         D        0   \n",
       "1  !ABBYY FineReader 12 Professional Edition Full...        1   \n",
       "2      ***В ЛУЧАХ СЛАВЫ   (UNV)                    D        2   \n",
       "3    ***ГОЛУБАЯ ВОЛНА  (Univ)                      D        3   \n",
       "4        ***КОРОБКА (СТЕКЛО)                       D        4   \n",
       "\n",
       "   item_category_id  \n",
       "0                40  \n",
       "1                76  \n",
       "2                40  \n",
       "3                40  \n",
       "4                40  "
      ]
     },
     "execution_count": 46,
     "metadata": {},
     "output_type": "execute_result"
    }
   ],
   "source": [
    "items.head()"
   ]
  },
  {
   "cell_type": "code",
   "execution_count": 57,
   "metadata": {
    "ExecuteTime": {
     "end_time": "2021-02-16T11:44:58.432355Z",
     "start_time": "2021-02-16T11:44:58.392583Z"
    }
   },
   "outputs": [],
   "source": [
    "transactions_summer2014 = transactions_summer2014.join(items, on='item_id', lsuffix='_trans', rsuffix='_items')"
   ]
  },
  {
   "cell_type": "code",
   "execution_count": 72,
   "metadata": {
    "ExecuteTime": {
     "end_time": "2021-02-16T11:47:14.475352Z",
     "start_time": "2021-02-16T11:47:14.439664Z"
    }
   },
   "outputs": [
    {
     "data": {
      "text/plain": [
       "item_category_id\n",
       "2     2755520.0\n",
       "3     6854669.8\n",
       "4       38833.2\n",
       "5      418233.1\n",
       "6     3360382.5\n",
       "        ...    \n",
       "78      55771.0\n",
       "79    1080480.0\n",
       "81        599.0\n",
       "82       1629.0\n",
       "83      52762.0\n",
       "Name: revenue, Length: 66, dtype: float64"
      ]
     },
     "execution_count": 72,
     "metadata": {},
     "output_type": "execute_result"
    }
   ],
   "source": [
    "rev_by_cat_id = transactions_summer2014.groupby('item_category_id').sum().revenue\n",
    "rev_by_cat_id"
   ]
  },
  {
   "cell_type": "code",
   "execution_count": 78,
   "metadata": {
    "ExecuteTime": {
     "end_time": "2021-02-16T11:47:46.921612Z",
     "start_time": "2021-02-16T11:47:46.917085Z"
    }
   },
   "outputs": [
    {
     "data": {
      "text/plain": [
       "15"
      ]
     },
     "execution_count": 78,
     "metadata": {},
     "output_type": "execute_result"
    }
   ],
   "source": [
    "rev_by_cat_id.argmax()"
   ]
  },
  {
   "cell_type": "code",
   "execution_count": 79,
   "metadata": {
    "ExecuteTime": {
     "end_time": "2021-02-16T11:47:54.695867Z",
     "start_time": "2021-02-16T11:47:54.691473Z"
    }
   },
   "outputs": [
    {
     "data": {
      "text/plain": [
       "32157302.430000115"
      ]
     },
     "execution_count": 79,
     "metadata": {},
     "output_type": "execute_result"
    }
   ],
   "source": [
    "rev_by_cat_id[20]"
   ]
  },
  {
   "cell_type": "code",
   "execution_count": 80,
   "metadata": {
    "ExecuteTime": {
     "end_time": "2021-02-16T11:48:03.417922Z",
     "start_time": "2021-02-16T11:48:03.413175Z"
    }
   },
   "outputs": [
    {
     "data": {
      "text/plain": [
       "32157302.430000115"
      ]
     },
     "execution_count": 80,
     "metadata": {},
     "output_type": "execute_result"
    }
   ],
   "source": [
    "rev_by_cat_id.iloc[15]"
   ]
  },
  {
   "cell_type": "code",
   "execution_count": 81,
   "metadata": {
    "ExecuteTime": {
     "end_time": "2021-02-16T11:48:10.005540Z",
     "start_time": "2021-02-16T11:48:10.002752Z"
    }
   },
   "outputs": [
    {
     "name": "stdout",
     "output_type": "stream",
     "text": [
      "Current answer for task category_id_with_max_revenue is: 20\n"
     ]
    }
   ],
   "source": [
    "# YOUR CODE GOES HERE\n",
    "\n",
    "category_id_with_max_revenue = 20\n",
    "grader.submit_tag('category_id_with_max_revenue', category_id_with_max_revenue)"
   ]
  },
  {
   "cell_type": "markdown",
   "metadata": {},
   "source": [
    "<ol start=\"3\">\n",
    "  <li><b>How many items are there, such that their price stays constant (to the best of our knowledge) during the whole period of time?</b></li>\n",
    "</ol>\n",
    "\n",
    "* Let's assume, that the items are returned for the same price as they had been sold."
   ]
  },
  {
   "cell_type": "code",
   "execution_count": 87,
   "metadata": {
    "ExecuteTime": {
     "end_time": "2021-02-16T11:51:01.250530Z",
     "start_time": "2021-02-16T11:51:01.220634Z"
    }
   },
   "outputs": [
    {
     "data": {
      "text/plain": [
       "21807"
      ]
     },
     "execution_count": 87,
     "metadata": {},
     "output_type": "execute_result"
    }
   ],
   "source": [
    "#21,807 products in total\n",
    "transactions.item_id.nunique()"
   ]
  },
  {
   "cell_type": "code",
   "execution_count": 103,
   "metadata": {
    "ExecuteTime": {
     "end_time": "2021-02-16T11:57:50.860606Z",
     "start_time": "2021-02-16T11:57:50.851080Z"
    },
    "scrolled": true
   },
   "outputs": [
    {
     "data": {
      "text/plain": [
       "5"
      ]
     },
     "execution_count": 103,
     "metadata": {},
     "output_type": "execute_result"
    }
   ],
   "source": [
    "tran_42 = transactions[transactions.item_id == 42]\n",
    "tran_42 = tran_42[['date', 'item_id', 'item_price']]\n",
    "sum(tran_42.item_price.diff().values[1:] > 0.)"
   ]
  },
  {
   "cell_type": "code",
   "execution_count": 114,
   "metadata": {
    "ExecuteTime": {
     "end_time": "2021-02-16T12:37:11.957130Z",
     "start_time": "2021-02-16T12:37:11.506559Z"
    }
   },
   "outputs": [
    {
     "data": {
      "text/html": [
       "<div>\n",
       "<style scoped>\n",
       "    .dataframe tbody tr th:only-of-type {\n",
       "        vertical-align: middle;\n",
       "    }\n",
       "\n",
       "    .dataframe tbody tr th {\n",
       "        vertical-align: top;\n",
       "    }\n",
       "\n",
       "    .dataframe thead th {\n",
       "        text-align: right;\n",
       "    }\n",
       "</style>\n",
       "<table border=\"1\" class=\"dataframe\">\n",
       "  <thead>\n",
       "    <tr style=\"text-align: right;\">\n",
       "      <th></th>\n",
       "      <th>date</th>\n",
       "      <th>item_price</th>\n",
       "    </tr>\n",
       "    <tr>\n",
       "      <th>item_id</th>\n",
       "      <th></th>\n",
       "      <th></th>\n",
       "    </tr>\n",
       "  </thead>\n",
       "  <tbody>\n",
       "    <tr>\n",
       "      <th>22154</th>\n",
       "      <td>02.01.2013</td>\n",
       "      <td>999.00</td>\n",
       "    </tr>\n",
       "    <tr>\n",
       "      <th>2552</th>\n",
       "      <td>03.01.2013</td>\n",
       "      <td>899.00</td>\n",
       "    </tr>\n",
       "    <tr>\n",
       "      <th>2552</th>\n",
       "      <td>05.01.2013</td>\n",
       "      <td>899.00</td>\n",
       "    </tr>\n",
       "    <tr>\n",
       "      <th>2554</th>\n",
       "      <td>06.01.2013</td>\n",
       "      <td>1709.05</td>\n",
       "    </tr>\n",
       "    <tr>\n",
       "      <th>2555</th>\n",
       "      <td>15.01.2013</td>\n",
       "      <td>1099.00</td>\n",
       "    </tr>\n",
       "  </tbody>\n",
       "</table>\n",
       "</div>"
      ],
      "text/plain": [
       "               date  item_price\n",
       "item_id                        \n",
       "22154    02.01.2013      999.00\n",
       "2552     03.01.2013      899.00\n",
       "2552     05.01.2013      899.00\n",
       "2554     06.01.2013     1709.05\n",
       "2555     15.01.2013     1099.00"
      ]
     },
     "execution_count": 114,
     "metadata": {},
     "output_type": "execute_result"
    }
   ],
   "source": [
    "transactions_item_id_idx = transactions.set_index('item_id')\n",
    "transactions_item_id_idx = transactions_item_id_idx[['date', 'item_price']]\n",
    "transactions_item_id_idx.head()"
   ]
  },
  {
   "cell_type": "code",
   "execution_count": 147,
   "metadata": {
    "ExecuteTime": {
     "end_time": "2021-02-16T13:10:08.725391Z",
     "start_time": "2021-02-16T13:10:08.696228Z"
    }
   },
   "outputs": [
    {
     "data": {
      "text/plain": [
       "Int64Index([22154,  2552,  2554,  2555,  2564,  2565,  2572,  2573,  2574,\n",
       "             2593,\n",
       "            ...\n",
       "            13476, 13280, 16105, 16094, 14709,  8428,  7903,  7610,  7635,\n",
       "             7640],\n",
       "           dtype='int64', name='item_id', length=21807)"
      ]
     },
     "execution_count": 147,
     "metadata": {},
     "output_type": "execute_result"
    }
   ],
   "source": [
    "transactions_item_id_idx.index.unique()"
   ]
  },
  {
   "cell_type": "code",
   "execution_count": 148,
   "metadata": {
    "ExecuteTime": {
     "end_time": "2021-02-16T13:10:12.607947Z",
     "start_time": "2021-02-16T13:10:12.582838Z"
    }
   },
   "outputs": [],
   "source": [
    "item_ids = transactions_item_id_idx.index.unique()"
   ]
  },
  {
   "cell_type": "code",
   "execution_count": 226,
   "metadata": {
    "ExecuteTime": {
     "end_time": "2021-02-16T14:10:16.770527Z",
     "start_time": "2021-02-16T14:10:16.766768Z"
    }
   },
   "outputs": [],
   "source": [
    "def price_stayed_constant(item_id):\n",
    "    tran_item_id = transactions[transactions.item_id == item_id]\n",
    "    price_diff = tran_item_id.item_price.diff()\n",
    "    # First value is NaN, so we leave that out\n",
    "    price_diff_vals = price_diff.values[1:]\n",
    "    # If every value in price_diff_vals is 0, the price never changed\n",
    "    if sum(price_diff_vals != 0) > 0:\n",
    "        return False\n",
    "    else:\n",
    "        return True"
   ]
  },
  {
   "cell_type": "code",
   "execution_count": 220,
   "metadata": {
    "ExecuteTime": {
     "end_time": "2021-02-16T14:08:01.519708Z",
     "start_time": "2021-02-16T14:08:01.511738Z"
    }
   },
   "outputs": [
    {
     "data": {
      "text/plain": [
       "1046      1999.0\n",
       "1047      1999.0\n",
       "18169     1999.0\n",
       "18170     1999.0\n",
       "29765     1999.0\n",
       "37249     1999.0\n",
       "46895     1999.0\n",
       "54997     1999.0\n",
       "58425     1999.0\n",
       "60879     1999.0\n",
       "67206     1999.0\n",
       "69064     1999.0\n",
       "82104     1999.0\n",
       "89628     1999.0\n",
       "101009    1469.0\n",
       "102587    1999.0\n",
       "105482    1999.0\n",
       "107648    1999.0\n",
       "116237    1999.0\n",
       "117375    1999.0\n",
       "Name: item_price, dtype: float64"
      ]
     },
     "execution_count": 220,
     "metadata": {},
     "output_type": "execute_result"
    }
   ],
   "source": [
    "transactions[transactions.item_id == item_ids[400]].item_price.head(20)"
   ]
  },
  {
   "cell_type": "code",
   "execution_count": 225,
   "metadata": {
    "ExecuteTime": {
     "end_time": "2021-02-16T14:09:41.658718Z",
     "start_time": "2021-02-16T14:09:41.649971Z"
    }
   },
   "outputs": [
    {
     "data": {
      "text/plain": [
       "97"
      ]
     },
     "execution_count": 225,
     "metadata": {},
     "output_type": "execute_result"
    }
   ],
   "source": [
    "tran_item_id = transactions[transactions.item_id == item_ids[400]]\n",
    "price_diff = tran_item_id.item_price.diff()\n",
    "price_diff_vals = price_diff.values[1:]\n",
    "sum(price_diff_vals != 0)"
   ]
  },
  {
   "cell_type": "code",
   "execution_count": 227,
   "metadata": {
    "ExecuteTime": {
     "end_time": "2021-02-16T14:11:11.961813Z",
     "start_time": "2021-02-16T14:10:21.601062Z"
    }
   },
   "outputs": [
    {
     "name": "stdout",
     "output_type": "stream",
     "text": [
      "Num indexes done: 0\n",
      "Num indexes done: 2000\n",
      "Num indexes done: 4000\n",
      "Num indexes done: 6000\n",
      "Num indexes done: 8000\n",
      "Num indexes done: 10000\n",
      "Num indexes done: 12000\n",
      "Num indexes done: 14000\n",
      "Num indexes done: 16000\n",
      "Num indexes done: 18000\n",
      "Num indexes done: 20000\n"
     ]
    },
    {
     "data": {
      "text/plain": [
       "5926"
      ]
     },
     "execution_count": 227,
     "metadata": {},
     "output_type": "execute_result"
    }
   ],
   "source": [
    "num_constant_priced_items = 0\n",
    "for idx, item_id in enumerate(item_ids):\n",
    "    num_constant_priced_items += price_stayed_constant(item_id)\n",
    "    if idx % 2000 == 0:\n",
    "        print(f'Num indexes done: {idx}')\n",
    "num_constant_priced_items"
   ]
  },
  {
   "cell_type": "markdown",
   "metadata": {},
   "source": [
    "The first time we see the price of an item, we want to check it against all future prices. If there is one change in the item price, we drop it. "
   ]
  },
  {
   "cell_type": "code",
   "execution_count": 228,
   "metadata": {
    "ExecuteTime": {
     "end_time": "2021-02-16T14:19:51.546400Z",
     "start_time": "2021-02-16T14:19:51.540582Z"
    }
   },
   "outputs": [
    {
     "name": "stdout",
     "output_type": "stream",
     "text": [
      "Current answer for task num_items_constant_price is: 5926\n"
     ]
    }
   ],
   "source": [
    "# YOUR CODE GOES HERE\n",
    "\n",
    "num_items_constant_price = 5926\n",
    "grader.submit_tag('num_items_constant_price', num_items_constant_price)"
   ]
  },
  {
   "cell_type": "markdown",
   "metadata": {},
   "source": [
    "Remember, the data can sometimes be noisy."
   ]
  },
  {
   "cell_type": "markdown",
   "metadata": {},
   "source": [
    "<ol start=\"4\">\n",
    "  <li><b>What was the variance of the number of sold items per day sequence for the shop with `shop_id = 25` in December, 2014? Do not count the items, that were sold but returned back later.</b></li>\n",
    "</ol>\n",
    "\n",
    "* Fill `total_num_items_sold` and `days` arrays, and plot the sequence with the code below.\n",
    "* Then compute variance. Remember, there can be differences in how you normalize variance (biased or unbiased estimate, see [link](https://math.stackexchange.com/questions/496627/the-difference-between-unbiased-biased-estimator-variance)). Compute ***unbiased*** estimate (use the right value for `ddof` argument in `pd.var` or `np.var`). \n",
    "* If there were no sales at a given day, ***do not*** impute missing value with zero, just ignore that day"
   ]
  },
  {
   "cell_type": "code",
   "execution_count": 151,
   "metadata": {
    "ExecuteTime": {
     "end_time": "2021-02-16T13:14:43.797247Z",
     "start_time": "2021-02-16T13:14:43.784348Z"
    }
   },
   "outputs": [
    {
     "data": {
      "text/html": [
       "<div>\n",
       "<style scoped>\n",
       "    .dataframe tbody tr th:only-of-type {\n",
       "        vertical-align: middle;\n",
       "    }\n",
       "\n",
       "    .dataframe tbody tr th {\n",
       "        vertical-align: top;\n",
       "    }\n",
       "\n",
       "    .dataframe thead th {\n",
       "        text-align: right;\n",
       "    }\n",
       "</style>\n",
       "<table border=\"1\" class=\"dataframe\">\n",
       "  <thead>\n",
       "    <tr style=\"text-align: right;\">\n",
       "      <th></th>\n",
       "      <th>date</th>\n",
       "      <th>date_block_num</th>\n",
       "      <th>shop_id</th>\n",
       "      <th>item_id</th>\n",
       "      <th>item_price</th>\n",
       "      <th>item_cnt_day</th>\n",
       "      <th>day</th>\n",
       "      <th>month</th>\n",
       "      <th>year</th>\n",
       "      <th>revenue</th>\n",
       "    </tr>\n",
       "  </thead>\n",
       "  <tbody>\n",
       "    <tr>\n",
       "      <th>0</th>\n",
       "      <td>02.01.2013</td>\n",
       "      <td>0</td>\n",
       "      <td>59</td>\n",
       "      <td>22154</td>\n",
       "      <td>999.00</td>\n",
       "      <td>1.0</td>\n",
       "      <td>02</td>\n",
       "      <td>01</td>\n",
       "      <td>2013</td>\n",
       "      <td>999.00</td>\n",
       "    </tr>\n",
       "    <tr>\n",
       "      <th>1</th>\n",
       "      <td>03.01.2013</td>\n",
       "      <td>0</td>\n",
       "      <td>25</td>\n",
       "      <td>2552</td>\n",
       "      <td>899.00</td>\n",
       "      <td>1.0</td>\n",
       "      <td>03</td>\n",
       "      <td>01</td>\n",
       "      <td>2013</td>\n",
       "      <td>899.00</td>\n",
       "    </tr>\n",
       "    <tr>\n",
       "      <th>2</th>\n",
       "      <td>05.01.2013</td>\n",
       "      <td>0</td>\n",
       "      <td>25</td>\n",
       "      <td>2552</td>\n",
       "      <td>899.00</td>\n",
       "      <td>-1.0</td>\n",
       "      <td>05</td>\n",
       "      <td>01</td>\n",
       "      <td>2013</td>\n",
       "      <td>-899.00</td>\n",
       "    </tr>\n",
       "    <tr>\n",
       "      <th>3</th>\n",
       "      <td>06.01.2013</td>\n",
       "      <td>0</td>\n",
       "      <td>25</td>\n",
       "      <td>2554</td>\n",
       "      <td>1709.05</td>\n",
       "      <td>1.0</td>\n",
       "      <td>06</td>\n",
       "      <td>01</td>\n",
       "      <td>2013</td>\n",
       "      <td>1709.05</td>\n",
       "    </tr>\n",
       "    <tr>\n",
       "      <th>4</th>\n",
       "      <td>15.01.2013</td>\n",
       "      <td>0</td>\n",
       "      <td>25</td>\n",
       "      <td>2555</td>\n",
       "      <td>1099.00</td>\n",
       "      <td>1.0</td>\n",
       "      <td>15</td>\n",
       "      <td>01</td>\n",
       "      <td>2013</td>\n",
       "      <td>1099.00</td>\n",
       "    </tr>\n",
       "  </tbody>\n",
       "</table>\n",
       "</div>"
      ],
      "text/plain": [
       "         date  date_block_num  shop_id  item_id  item_price  item_cnt_day day  \\\n",
       "0  02.01.2013               0       59    22154      999.00           1.0  02   \n",
       "1  03.01.2013               0       25     2552      899.00           1.0  03   \n",
       "2  05.01.2013               0       25     2552      899.00          -1.0  05   \n",
       "3  06.01.2013               0       25     2554     1709.05           1.0  06   \n",
       "4  15.01.2013               0       25     2555     1099.00           1.0  15   \n",
       "\n",
       "  month  year  revenue  \n",
       "0    01  2013   999.00  \n",
       "1    01  2013   899.00  \n",
       "2    01  2013  -899.00  \n",
       "3    01  2013  1709.05  \n",
       "4    01  2013  1099.00  "
      ]
     },
     "execution_count": 151,
     "metadata": {},
     "output_type": "execute_result"
    }
   ],
   "source": [
    "transactions.head()"
   ]
  },
  {
   "cell_type": "code",
   "execution_count": 152,
   "metadata": {
    "ExecuteTime": {
     "end_time": "2021-02-16T13:16:26.400145Z",
     "start_time": "2021-02-16T13:16:26.049549Z"
    }
   },
   "outputs": [],
   "source": [
    "transactions_dec2014 = transactions[(transactions.month == '12') & (transactions.year == '2014')]\n",
    "transactions_dec2014_shop25 = transactions_dec2014[transactions_dec2014.shop_id == 25]"
   ]
  },
  {
   "cell_type": "code",
   "execution_count": 177,
   "metadata": {
    "ExecuteTime": {
     "end_time": "2021-02-16T13:38:11.649148Z",
     "start_time": "2021-02-16T13:38:11.645327Z"
    }
   },
   "outputs": [],
   "source": [
    "def day_n_returns(n):\n",
    "    if n < 1 or n > 31:\n",
    "        raise TypeError(\"n must be in the range 1-31... it's for days of the month silly.\")\n",
    "    if n < 10:\n",
    "        n = f'0{n}'\n",
    "    n = str(n)\n",
    "    mask = (transactions_dec2014_shop25.day == n) & \\\n",
    "           (transactions_dec2014_shop25.item_cnt_day < 1.)\n",
    "    return transactions_dec2014_shop25[mask]"
   ]
  },
  {
   "cell_type": "code",
   "execution_count": 187,
   "metadata": {
    "ExecuteTime": {
     "end_time": "2021-02-16T13:39:53.814216Z",
     "start_time": "2021-02-16T13:39:53.762840Z"
    }
   },
   "outputs": [
    {
     "name": "stdout",
     "output_type": "stream",
     "text": [
      "Day 6 num returns: 3\n",
      "Day 7 num returns: 1\n",
      "Day 14 num returns: 1\n",
      "Day 18 num returns: 1\n",
      "Day 21 num returns: 2\n",
      "Day 24 num returns: 1\n",
      "Day 25 num returns: 1\n",
      "Day 27 num returns: 3\n"
     ]
    }
   ],
   "source": [
    "for n in range(1, 32):\n",
    "    num_returns = len(day_n_returns(n))\n",
    "    if num_returns != 0:\n",
    "        print(f'Day {n} num returns: {num_returns}')"
   ]
  },
  {
   "cell_type": "code",
   "execution_count": 199,
   "metadata": {
    "ExecuteTime": {
     "end_time": "2021-02-16T13:46:26.466717Z",
     "start_time": "2021-02-16T13:46:26.420428Z"
    }
   },
   "outputs": [
    {
     "data": {
      "text/plain": [
       "13"
      ]
     },
     "execution_count": 199,
     "metadata": {},
     "output_type": "execute_result"
    }
   ],
   "source": [
    "# So just calculate all \n",
    "total_num_returns = 0\n",
    "for n in range(1, 32):\n",
    "    total_num_returns += len(day_n_returns(n))\n",
    "total_num_returns"
   ]
  },
  {
   "cell_type": "code",
   "execution_count": 205,
   "metadata": {
    "ExecuteTime": {
     "end_time": "2021-02-16T13:50:32.921385Z",
     "start_time": "2021-02-16T13:50:32.910945Z"
    }
   },
   "outputs": [
    {
     "data": {
      "text/plain": [
       "day\n",
       "01     153.0\n",
       "02     169.0\n",
       "03     195.0\n",
       "04     164.0\n",
       "05     300.0\n",
       "06     350.0\n",
       "07     325.0\n",
       "08     209.0\n",
       "09     204.0\n",
       "10     143.0\n",
       "11     214.0\n",
       "12     297.0\n",
       "13     432.0\n",
       "14     305.0\n",
       "15     225.0\n",
       "16     192.0\n",
       "17     285.0\n",
       "18     325.0\n",
       "19     418.0\n",
       "20     579.0\n",
       "21     379.0\n",
       "22     318.0\n",
       "23     371.0\n",
       "24     433.0\n",
       "25     505.0\n",
       "26     620.0\n",
       "27     743.0\n",
       "28     662.0\n",
       "30    1966.0\n",
       "31     776.0\n",
       "Name: item_cnt_day, dtype: float64"
      ]
     },
     "execution_count": 205,
     "metadata": {},
     "output_type": "execute_result"
    }
   ],
   "source": [
    "transactions_dec2014_shop25.groupby('day').sum().item_cnt_day"
   ]
  },
  {
   "cell_type": "code",
   "execution_count": 208,
   "metadata": {
    "ExecuteTime": {
     "end_time": "2021-02-16T13:59:25.631013Z",
     "start_time": "2021-02-16T13:59:25.624981Z"
    }
   },
   "outputs": [],
   "source": [
    "items_sold_per_day = transactions_dec2014_shop25.groupby('day').sum().item_cnt_day"
   ]
  },
  {
   "cell_type": "code",
   "execution_count": 212,
   "metadata": {
    "ExecuteTime": {
     "end_time": "2021-02-16T14:01:30.229069Z",
     "start_time": "2021-02-16T14:01:30.224553Z"
    }
   },
   "outputs": [
    {
     "data": {
      "text/plain": [
       "117167.70229885059"
      ]
     },
     "execution_count": 212,
     "metadata": {},
     "output_type": "execute_result"
    }
   ],
   "source": [
    "items_sold_per_day.var()"
   ]
  },
  {
   "cell_type": "code",
   "execution_count": 213,
   "metadata": {
    "ExecuteTime": {
     "end_time": "2021-02-16T14:01:41.442011Z",
     "start_time": "2021-02-16T14:01:41.227988Z"
    }
   },
   "outputs": [
    {
     "data": {
      "image/png": "[encoded data removed]",
      "text/plain": [
       "<Figure size 432x288 with 1 Axes>"
      ]
     },
     "metadata": {
      "needs_background": "light"
     },
     "output_type": "display_data"
    },
    {
     "name": "stdout",
     "output_type": "stream",
     "text": [
      "Current answer for task total_num_items_sold_var is: 117167.70229885059\n"
     ]
    }
   ],
   "source": [
    "shop_id = 25\n",
    "\n",
    "total_num_items_sold = items_sold_per_day.values\n",
    "days = items_sold_per_day.index\n",
    "\n",
    "# Plot it\n",
    "plt.plot(days, total_num_items_sold)\n",
    "plt.ylabel('Num items')\n",
    "plt.xlabel('Day')\n",
    "plt.title(\"Daily revenue for shop_id = 25\")\n",
    "plt.show()\n",
    "\n",
    "total_num_items_sold_var = items_sold_per_day.var()\n",
    "grader.submit_tag('total_num_items_sold_var', total_num_items_sold_var)"
   ]
  },
  {
   "cell_type": "markdown",
   "metadata": {},
   "source": [
    "## Authorization & Submission\n",
    "To submit assignment to Cousera platform, please, enter your e-mail and token into the variables below. You can generate token on the programming assignment page. *Note:* Token expires 30 minutes after generation."
   ]
  },
  {
   "cell_type": "code",
   "execution_count": 229,
   "metadata": {
    "ExecuteTime": {
     "end_time": "2021-02-16T14:19:55.325029Z",
     "start_time": "2021-02-16T14:19:55.320726Z"
    }
   },
   "outputs": [
    {
     "name": "stdout",
     "output_type": "stream",
     "text": [
      "You want to submit these numbers:\n",
      "Task max_revenue: 7982852.199999956\n",
      "Task category_id_with_max_revenue: 20\n",
      "Task num_items_constant_price: 5926\n",
      "Task total_num_items_sold_var: 117167.70229885059\n"
     ]
    }
   ],
   "source": [
    "STUDENT_EMAIL = 'adamdmurphy4@gmail.com'\n",
    "STUDENT_TOKEN = '2J61Taxmfiut9sBp'\n",
    "grader.status()"
   ]
  },
  {
   "cell_type": "code",
   "execution_count": 230,
   "metadata": {
    "ExecuteTime": {
     "end_time": "2021-02-16T14:19:58.477260Z",
     "start_time": "2021-02-16T14:19:57.633302Z"
    }
   },
   "outputs": [
    {
     "name": "stdout",
     "output_type": "stream",
     "text": [
      "Submitted to Coursera platform. See results on assignment page!\n"
     ]
    }
   ],
   "source": [
    "grader.submit(STUDENT_EMAIL, STUDENT_TOKEN)"
   ]
  },
  {
   "cell_type": "markdown",
   "metadata": {},
   "source": [
    "Well done! :)"
   ]
  }
 ],
 "metadata": {
  "hw_version": "1.0.0",
  "kernelspec": {
   "display_name": "Python 3",
   "language": "python",
   "name": "python3"
  },
  "language_info": {
   "codemirror_mode": {
    "name": "ipython",
    "version": 3
   },
   "file_extension": ".py",
   "mimetype": "text/x-python",
   "name": "python",
   "nbconvert_exporter": "python",
   "pygments_lexer": "ipython3",
   "version": "3.7.7"
  },
  "toc": {
   "base_numbering": 1,
   "nav_menu": {},
   "number_sections": true,
   "sideBar": true,
   "skip_h1_title": false,
   "title_cell": "Table of Contents",
   "title_sidebar": "Contents",
   "toc_cell": false,
   "toc_position": {},
   "toc_section_display": true,
   "toc_window_display": false
  },
  "varInspector": {
   "cols": {
    "lenName": 16,
    "lenType": 16,
    "lenVar": 40
   },
   "kernels_config": {
    "python": {
     "delete_cmd_postfix": "",
     "delete_cmd_prefix": "del ",
     "library": "var_list.py",
     "varRefreshCmd": "print(var_dic_list())"
    },
    "r": {
     "delete_cmd_postfix": ") ",
     "delete_cmd_prefix": "rm(",
     "library": "var_list.r",
     "varRefreshCmd": "cat(var_dic_list()) "
    }
   },
   "types_to_exclude": [
    "module",
    "function",
    "builtin_function_or_method",
    "instance",
    "_Feature"
   ],
   "window_display": false
  }
 },
 "nbformat": 4,
 "nbformat_minor": 2
}
